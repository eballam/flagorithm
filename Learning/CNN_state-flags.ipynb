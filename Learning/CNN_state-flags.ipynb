{
 "cells": [
  {
   "cell_type": "code",
   "execution_count": 1,
   "id": "resident-greenhouse",
   "metadata": {},
   "outputs": [],
   "source": [
    "# https://en.wikipedia.org/wiki/Flags_of_the_U.S._states_and_territories"
   ]
  },
  {
   "cell_type": "code",
   "execution_count": 21,
   "id": "hungry-walker",
   "metadata": {},
   "outputs": [],
   "source": [
    "import cairosvg\n",
    "import pandas as pd\n",
    "import os\n",
    "import numpy as np\n",
    "\n",
    "from matplotlib.image import imread\n",
    "import matplotlib.pyplot as plt\n",
    "import seaborn as sns\n",
    "\n",
    "from tensorflow.keras.preprocessing.image import ImageDataGenerator\n",
    "\n",
    "from tensorflow.keras.models import Sequential\n",
    "from tensorflow.keras.layers import Activation, Dropout, Flatten, Dense, Conv2D, MaxPooling2D,BatchNormalization\n",
    "from tensorflow.keras.callbacks import EarlyStopping\n",
    "\n",
    "import warnings\n",
    "warnings.filterwarnings('ignore')"
   ]
  },
  {
   "cell_type": "code",
   "execution_count": 22,
   "id": "solved-cassette",
   "metadata": {},
   "outputs": [
    {
     "data": {
      "text/html": [
       "<div>\n",
       "<style scoped>\n",
       "    .dataframe tbody tr th:only-of-type {\n",
       "        vertical-align: middle;\n",
       "    }\n",
       "\n",
       "    .dataframe tbody tr th {\n",
       "        vertical-align: top;\n",
       "    }\n",
       "\n",
       "    .dataframe thead th {\n",
       "        text-align: right;\n",
       "    }\n",
       "</style>\n",
       "<table border=\"1\" class=\"dataframe\">\n",
       "  <thead>\n",
       "    <tr style=\"text-align: right;\">\n",
       "      <th></th>\n",
       "      <th>Country</th>\n",
       "      <th>ImageURL</th>\n",
       "    </tr>\n",
       "  </thead>\n",
       "  <tbody>\n",
       "    <tr>\n",
       "      <th>0</th>\n",
       "      <td>Alabama</td>\n",
       "      <td>https://upload.wikimedia.org/wikipedia/commons...</td>\n",
       "    </tr>\n",
       "    <tr>\n",
       "      <th>1</th>\n",
       "      <td>Alaska</td>\n",
       "      <td>https://upload.wikimedia.org/wikipedia/commons...</td>\n",
       "    </tr>\n",
       "    <tr>\n",
       "      <th>2</th>\n",
       "      <td>Arizona</td>\n",
       "      <td>https://upload.wikimedia.org/wikipedia/commons...</td>\n",
       "    </tr>\n",
       "    <tr>\n",
       "      <th>3</th>\n",
       "      <td>Arkansas</td>\n",
       "      <td>https://upload.wikimedia.org/wikipedia/commons...</td>\n",
       "    </tr>\n",
       "    <tr>\n",
       "      <th>4</th>\n",
       "      <td>California</td>\n",
       "      <td>https://upload.wikimedia.org/wikipedia/commons...</td>\n",
       "    </tr>\n",
       "    <tr>\n",
       "      <th>5</th>\n",
       "      <td>Colorado</td>\n",
       "      <td>https://upload.wikimedia.org/wikipedia/commons...</td>\n",
       "    </tr>\n",
       "    <tr>\n",
       "      <th>6</th>\n",
       "      <td>Connecticut</td>\n",
       "      <td>https://upload.wikimedia.org/wikipedia/commons...</td>\n",
       "    </tr>\n",
       "    <tr>\n",
       "      <th>7</th>\n",
       "      <td>Delaware</td>\n",
       "      <td>https://upload.wikimedia.org/wikipedia/commons...</td>\n",
       "    </tr>\n",
       "    <tr>\n",
       "      <th>8</th>\n",
       "      <td>Florida</td>\n",
       "      <td>https://upload.wikimedia.org/wikipedia/commons...</td>\n",
       "    </tr>\n",
       "    <tr>\n",
       "      <th>9</th>\n",
       "      <td>Georgia</td>\n",
       "      <td>https://upload.wikimedia.org/wikipedia/commons...</td>\n",
       "    </tr>\n",
       "    <tr>\n",
       "      <th>10</th>\n",
       "      <td>Hawaii</td>\n",
       "      <td>https://upload.wikimedia.org/wikipedia/commons...</td>\n",
       "    </tr>\n",
       "    <tr>\n",
       "      <th>11</th>\n",
       "      <td>Idaho</td>\n",
       "      <td>https://upload.wikimedia.org/wikipedia/commons...</td>\n",
       "    </tr>\n",
       "    <tr>\n",
       "      <th>12</th>\n",
       "      <td>Illinois</td>\n",
       "      <td>https://upload.wikimedia.org/wikipedia/commons...</td>\n",
       "    </tr>\n",
       "    <tr>\n",
       "      <th>13</th>\n",
       "      <td>Indiana</td>\n",
       "      <td>https://upload.wikimedia.org/wikipedia/commons...</td>\n",
       "    </tr>\n",
       "    <tr>\n",
       "      <th>14</th>\n",
       "      <td>Iowa</td>\n",
       "      <td>https://upload.wikimedia.org/wikipedia/commons...</td>\n",
       "    </tr>\n",
       "    <tr>\n",
       "      <th>15</th>\n",
       "      <td>Kansas</td>\n",
       "      <td>https://upload.wikimedia.org/wikipedia/commons...</td>\n",
       "    </tr>\n",
       "    <tr>\n",
       "      <th>16</th>\n",
       "      <td>Kentucky</td>\n",
       "      <td>https://upload.wikimedia.org/wikipedia/commons...</td>\n",
       "    </tr>\n",
       "    <tr>\n",
       "      <th>17</th>\n",
       "      <td>Louisiana</td>\n",
       "      <td>https://upload.wikimedia.org/wikipedia/commons...</td>\n",
       "    </tr>\n",
       "    <tr>\n",
       "      <th>18</th>\n",
       "      <td>Maine</td>\n",
       "      <td>https://upload.wikimedia.org/wikipedia/commons...</td>\n",
       "    </tr>\n",
       "    <tr>\n",
       "      <th>19</th>\n",
       "      <td>Maryland</td>\n",
       "      <td>https://upload.wikimedia.org/wikipedia/commons...</td>\n",
       "    </tr>\n",
       "    <tr>\n",
       "      <th>20</th>\n",
       "      <td>Massachusetts</td>\n",
       "      <td>https://upload.wikimedia.org/wikipedia/commons...</td>\n",
       "    </tr>\n",
       "    <tr>\n",
       "      <th>21</th>\n",
       "      <td>Michigan</td>\n",
       "      <td>https://upload.wikimedia.org/wikipedia/commons...</td>\n",
       "    </tr>\n",
       "    <tr>\n",
       "      <th>22</th>\n",
       "      <td>Minnesota</td>\n",
       "      <td>https://upload.wikimedia.org/wikipedia/commons...</td>\n",
       "    </tr>\n",
       "    <tr>\n",
       "      <th>23</th>\n",
       "      <td>Mississippi</td>\n",
       "      <td>https://upload.wikimedia.org/wikipedia/commons...</td>\n",
       "    </tr>\n",
       "    <tr>\n",
       "      <th>24</th>\n",
       "      <td>Missouri</td>\n",
       "      <td>https://upload.wikimedia.org/wikipedia/commons...</td>\n",
       "    </tr>\n",
       "    <tr>\n",
       "      <th>25</th>\n",
       "      <td>Montana</td>\n",
       "      <td>https://upload.wikimedia.org/wikipedia/commons...</td>\n",
       "    </tr>\n",
       "    <tr>\n",
       "      <th>26</th>\n",
       "      <td>Nebraska</td>\n",
       "      <td>https://upload.wikimedia.org/wikipedia/commons...</td>\n",
       "    </tr>\n",
       "    <tr>\n",
       "      <th>27</th>\n",
       "      <td>Nevada</td>\n",
       "      <td>https://upload.wikimedia.org/wikipedia/commons...</td>\n",
       "    </tr>\n",
       "    <tr>\n",
       "      <th>28</th>\n",
       "      <td>New Hampshire</td>\n",
       "      <td>https://upload.wikimedia.org/wikipedia/commons...</td>\n",
       "    </tr>\n",
       "    <tr>\n",
       "      <th>29</th>\n",
       "      <td>New Jersey</td>\n",
       "      <td>https://upload.wikimedia.org/wikipedia/commons...</td>\n",
       "    </tr>\n",
       "    <tr>\n",
       "      <th>30</th>\n",
       "      <td>New Mexico</td>\n",
       "      <td>https://upload.wikimedia.org/wikipedia/commons...</td>\n",
       "    </tr>\n",
       "    <tr>\n",
       "      <th>31</th>\n",
       "      <td>New York</td>\n",
       "      <td>https://upload.wikimedia.org/wikipedia/commons...</td>\n",
       "    </tr>\n",
       "    <tr>\n",
       "      <th>32</th>\n",
       "      <td>North Carolina</td>\n",
       "      <td>https://upload.wikimedia.org/wikipedia/commons...</td>\n",
       "    </tr>\n",
       "    <tr>\n",
       "      <th>33</th>\n",
       "      <td>North Dekota</td>\n",
       "      <td>https://upload.wikimedia.org/wikipedia/commons...</td>\n",
       "    </tr>\n",
       "    <tr>\n",
       "      <th>34</th>\n",
       "      <td>Ohio</td>\n",
       "      <td>https://upload.wikimedia.org/wikipedia/commons...</td>\n",
       "    </tr>\n",
       "    <tr>\n",
       "      <th>35</th>\n",
       "      <td>Oklahoma</td>\n",
       "      <td>https://upload.wikimedia.org/wikipedia/commons...</td>\n",
       "    </tr>\n",
       "    <tr>\n",
       "      <th>36</th>\n",
       "      <td>Oregon</td>\n",
       "      <td>https://upload.wikimedia.org/wikipedia/commons...</td>\n",
       "    </tr>\n",
       "    <tr>\n",
       "      <th>37</th>\n",
       "      <td>Pennsylvania</td>\n",
       "      <td>https://upload.wikimedia.org/wikipedia/commons...</td>\n",
       "    </tr>\n",
       "    <tr>\n",
       "      <th>38</th>\n",
       "      <td>Rhode Island</td>\n",
       "      <td>https://upload.wikimedia.org/wikipedia/commons...</td>\n",
       "    </tr>\n",
       "    <tr>\n",
       "      <th>39</th>\n",
       "      <td>South Carolina</td>\n",
       "      <td>https://upload.wikimedia.org/wikipedia/commons...</td>\n",
       "    </tr>\n",
       "    <tr>\n",
       "      <th>40</th>\n",
       "      <td>South Dakota</td>\n",
       "      <td>https://upload.wikimedia.org/wikipedia/commons...</td>\n",
       "    </tr>\n",
       "    <tr>\n",
       "      <th>41</th>\n",
       "      <td>Tennessee</td>\n",
       "      <td>https://upload.wikimedia.org/wikipedia/commons...</td>\n",
       "    </tr>\n",
       "    <tr>\n",
       "      <th>42</th>\n",
       "      <td>Texas</td>\n",
       "      <td>https://upload.wikimedia.org/wikipedia/commons...</td>\n",
       "    </tr>\n",
       "    <tr>\n",
       "      <th>43</th>\n",
       "      <td>Utah</td>\n",
       "      <td>https://upload.wikimedia.org/wikipedia/commons...</td>\n",
       "    </tr>\n",
       "    <tr>\n",
       "      <th>44</th>\n",
       "      <td>Vermont</td>\n",
       "      <td>https://upload.wikimedia.org/wikipedia/commons...</td>\n",
       "    </tr>\n",
       "    <tr>\n",
       "      <th>45</th>\n",
       "      <td>Virginia</td>\n",
       "      <td>https://upload.wikimedia.org/wikipedia/commons...</td>\n",
       "    </tr>\n",
       "    <tr>\n",
       "      <th>46</th>\n",
       "      <td>Washington</td>\n",
       "      <td>https://upload.wikimedia.org/wikipedia/commons...</td>\n",
       "    </tr>\n",
       "    <tr>\n",
       "      <th>47</th>\n",
       "      <td>West Virginia</td>\n",
       "      <td>https://upload.wikimedia.org/wikipedia/commons...</td>\n",
       "    </tr>\n",
       "    <tr>\n",
       "      <th>48</th>\n",
       "      <td>Wisconsin</td>\n",
       "      <td>https://upload.wikimedia.org/wikipedia/commons...</td>\n",
       "    </tr>\n",
       "    <tr>\n",
       "      <th>49</th>\n",
       "      <td>Wyoming</td>\n",
       "      <td>https://upload.wikimedia.org/wikipedia/commons...</td>\n",
       "    </tr>\n",
       "  </tbody>\n",
       "</table>\n",
       "</div>"
      ],
      "text/plain": [
       "           Country                                           ImageURL\n",
       "0          Alabama  https://upload.wikimedia.org/wikipedia/commons...\n",
       "1           Alaska  https://upload.wikimedia.org/wikipedia/commons...\n",
       "2          Arizona  https://upload.wikimedia.org/wikipedia/commons...\n",
       "3         Arkansas  https://upload.wikimedia.org/wikipedia/commons...\n",
       "4       California  https://upload.wikimedia.org/wikipedia/commons...\n",
       "5         Colorado  https://upload.wikimedia.org/wikipedia/commons...\n",
       "6      Connecticut  https://upload.wikimedia.org/wikipedia/commons...\n",
       "7         Delaware  https://upload.wikimedia.org/wikipedia/commons...\n",
       "8          Florida  https://upload.wikimedia.org/wikipedia/commons...\n",
       "9          Georgia  https://upload.wikimedia.org/wikipedia/commons...\n",
       "10          Hawaii  https://upload.wikimedia.org/wikipedia/commons...\n",
       "11           Idaho  https://upload.wikimedia.org/wikipedia/commons...\n",
       "12        Illinois  https://upload.wikimedia.org/wikipedia/commons...\n",
       "13         Indiana  https://upload.wikimedia.org/wikipedia/commons...\n",
       "14            Iowa  https://upload.wikimedia.org/wikipedia/commons...\n",
       "15          Kansas  https://upload.wikimedia.org/wikipedia/commons...\n",
       "16        Kentucky  https://upload.wikimedia.org/wikipedia/commons...\n",
       "17       Louisiana  https://upload.wikimedia.org/wikipedia/commons...\n",
       "18           Maine  https://upload.wikimedia.org/wikipedia/commons...\n",
       "19        Maryland  https://upload.wikimedia.org/wikipedia/commons...\n",
       "20   Massachusetts  https://upload.wikimedia.org/wikipedia/commons...\n",
       "21        Michigan  https://upload.wikimedia.org/wikipedia/commons...\n",
       "22       Minnesota  https://upload.wikimedia.org/wikipedia/commons...\n",
       "23     Mississippi  https://upload.wikimedia.org/wikipedia/commons...\n",
       "24        Missouri  https://upload.wikimedia.org/wikipedia/commons...\n",
       "25         Montana  https://upload.wikimedia.org/wikipedia/commons...\n",
       "26        Nebraska  https://upload.wikimedia.org/wikipedia/commons...\n",
       "27          Nevada  https://upload.wikimedia.org/wikipedia/commons...\n",
       "28   New Hampshire  https://upload.wikimedia.org/wikipedia/commons...\n",
       "29      New Jersey  https://upload.wikimedia.org/wikipedia/commons...\n",
       "30      New Mexico  https://upload.wikimedia.org/wikipedia/commons...\n",
       "31        New York  https://upload.wikimedia.org/wikipedia/commons...\n",
       "32  North Carolina  https://upload.wikimedia.org/wikipedia/commons...\n",
       "33    North Dekota  https://upload.wikimedia.org/wikipedia/commons...\n",
       "34            Ohio  https://upload.wikimedia.org/wikipedia/commons...\n",
       "35        Oklahoma  https://upload.wikimedia.org/wikipedia/commons...\n",
       "36          Oregon  https://upload.wikimedia.org/wikipedia/commons...\n",
       "37    Pennsylvania  https://upload.wikimedia.org/wikipedia/commons...\n",
       "38    Rhode Island  https://upload.wikimedia.org/wikipedia/commons...\n",
       "39  South Carolina  https://upload.wikimedia.org/wikipedia/commons...\n",
       "40    South Dakota  https://upload.wikimedia.org/wikipedia/commons...\n",
       "41       Tennessee  https://upload.wikimedia.org/wikipedia/commons...\n",
       "42           Texas  https://upload.wikimedia.org/wikipedia/commons...\n",
       "43            Utah  https://upload.wikimedia.org/wikipedia/commons...\n",
       "44         Vermont  https://upload.wikimedia.org/wikipedia/commons...\n",
       "45        Virginia  https://upload.wikimedia.org/wikipedia/commons...\n",
       "46      Washington  https://upload.wikimedia.org/wikipedia/commons...\n",
       "47   West Virginia  https://upload.wikimedia.org/wikipedia/commons...\n",
       "48       Wisconsin  https://upload.wikimedia.org/wikipedia/commons...\n",
       "49         Wyoming  https://upload.wikimedia.org/wikipedia/commons..."
      ]
     },
     "execution_count": 22,
     "metadata": {},
     "output_type": "execute_result"
    }
   ],
   "source": [
    "# reading in the dataframe\n",
    "df = pd.read_csv('us_state.csv')\n",
    "df"
   ]
  },
  {
   "cell_type": "code",
   "execution_count": 23,
   "id": "guilty-infrastructure",
   "metadata": {},
   "outputs": [],
   "source": [
    "num_stats_data = df.shape[0]"
   ]
  },
  {
   "cell_type": "code",
   "execution_count": 24,
   "id": "moving-absorption",
   "metadata": {},
   "outputs": [],
   "source": [
    "train_path = 'States\\\\'\n",
    "test_path = 'States\\\\'"
   ]
  },
  {
   "cell_type": "code",
   "execution_count": 25,
   "id": "mysterious-picture",
   "metadata": {},
   "outputs": [],
   "source": [
    "for index, row in df[:num_stats_data].iterrows():\n",
    "    try:\n",
    "        os.makedirs(train_path + str(row.Country))\n",
    "        os.makedirs(test_path + str(row.Country))\n",
    "    except:\n",
    "#         print('Folder ' + str(row.Country) + ' already exists')\n",
    "        pass\n",
    "    try:\n",
    "        cairosvg.svg2png(url=row.ImageURL, write_to= train_path + str(row.Country) +'\\\\' + str(row.Country) + '.png', output_width = 100, output_height = 100)\n",
    "    except:\n",
    "        print(row.ImageURL)"
   ]
  },
  {
   "cell_type": "code",
   "execution_count": 26,
   "id": "worst-honor",
   "metadata": {},
   "outputs": [],
   "source": [
    "dim1 = []\n",
    "dim2 = []\n",
    "\n",
    "for image_folder in os.listdir(train_path):\n",
    "    try:\n",
    "        img = imread(train_path + image_folder + '\\\\' + image_folder +'.png')\n",
    "        d1,d2,colors = img.shape\n",
    "        dim1.append(d1)\n",
    "        dim2.append(d2)\n",
    "    except:\n",
    "        print(image_folder)"
   ]
  },
  {
   "cell_type": "code",
   "execution_count": 27,
   "id": "valid-ideal",
   "metadata": {},
   "outputs": [
    {
     "data": {
      "text/plain": [
       "<seaborn.axisgrid.JointGrid at 0x190176f7940>"
      ]
     },
     "execution_count": 27,
     "metadata": {},
     "output_type": "execute_result"
    },
    {
     "data": {
      "image/png": "[encoded data removed]",
      "text/plain": [
       "<Figure size 432x432 with 3 Axes>"
      ]
     },
     "metadata": {
      "needs_background": "light"
     },
     "output_type": "display_data"
    }
   ],
   "source": [
    "sns.jointplot(dim1,dim2)"
   ]
  },
  {
   "cell_type": "code",
   "execution_count": 28,
   "id": "dimensional-proceeding",
   "metadata": {},
   "outputs": [
    {
     "data": {
      "text/plain": [
       "(100, 100, 3)"
      ]
     },
     "execution_count": 28,
     "metadata": {},
     "output_type": "execute_result"
    }
   ],
   "source": [
    "image_shape = (int(round(np.mean(dim1))),int(round(np.mean(dim2))),3)\n",
    "image_shape "
   ]
  },
  {
   "cell_type": "code",
   "execution_count": 10,
   "id": "israeli-comparison",
   "metadata": {},
   "outputs": [],
   "source": [
    "image_gen = ImageDataGenerator(rotation_range=40, # rotate the image 20 degrees\n",
    "                               width_shift_range=0.10, # Shift the pic width by a max of 5%\n",
    "                               height_shift_range=0.10, # Shift the pic height by a max of 5%\n",
    "                               rescale=1/255, # Rescale the image by normalzing it.\n",
    "                               shear_range=0.1, # Shear means cutting away part of the image (max 10%)\n",
    "                               zoom_range=0.1, # Zoom in by 10% max\n",
    "                               horizontal_flip=True, # Allo horizontal flipping\n",
    "                               fill_mode='constant' # Fill in missing pixels with the nearest filled value\n",
    "                              )"
   ]
  },
  {
   "cell_type": "code",
   "execution_count": 11,
   "id": "supreme-buyer",
   "metadata": {},
   "outputs": [
    {
     "name": "stdout",
     "output_type": "stream",
     "text": [
      "Found 50 images belonging to 50 classes.\n"
     ]
    },
    {
     "data": {
      "text/plain": [
       "<tensorflow.python.keras.preprocessing.image.DirectoryIterator at 0x19bbe2af580>"
      ]
     },
     "execution_count": 11,
     "metadata": {},
     "output_type": "execute_result"
    }
   ],
   "source": [
    "image_gen.flow_from_directory(train_path)"
   ]
  },
  {
   "cell_type": "code",
   "execution_count": 12,
   "id": "meaning-breed",
   "metadata": {},
   "outputs": [
    {
     "name": "stdout",
     "output_type": "stream",
     "text": [
      "Found 50 images belonging to 50 classes.\n"
     ]
    },
    {
     "data": {
      "text/plain": [
       "<tensorflow.python.keras.preprocessing.image.DirectoryIterator at 0x19bbe2b6c70>"
      ]
     },
     "execution_count": 12,
     "metadata": {},
     "output_type": "execute_result"
    }
   ],
   "source": [
    "image_gen.flow_from_directory(test_path)"
   ]
  },
  {
   "cell_type": "code",
   "execution_count": 13,
   "id": "rubber-transformation",
   "metadata": {},
   "outputs": [
    {
     "data": {
      "text/plain": [
       "50"
      ]
     },
     "execution_count": 13,
     "metadata": {},
     "output_type": "execute_result"
    }
   ],
   "source": [
    "out_nodes = len(os.listdir(train_path))\n",
    "out_nodes"
   ]
  },
  {
   "cell_type": "code",
   "execution_count": 14,
   "id": "dated-perth",
   "metadata": {},
   "outputs": [],
   "source": [
    "model = Sequential()\n",
    "    \n",
    "# VGG Block\n",
    "model.add(Conv2D(32, (3, 3), activation='relu', kernel_initializer='he_uniform', padding='same', input_shape=image_shape))\n",
    "model.add(Conv2D(32, (3, 3), activation='relu', kernel_initializer='he_uniform', padding='same'))\n",
    "model.add(MaxPooling2D((2, 2)))\n",
    "# model.add(Dropout(0.2))\n",
    "\n",
    "# VGG Block    \n",
    "model.add(Conv2D(64, (3, 3), activation='relu', kernel_initializer='he_uniform', padding='same'))\n",
    "model.add(Conv2D(64, (3, 3), activation='relu', kernel_initializer='he_uniform', padding='same'))\n",
    "model.add(MaxPooling2D((2, 2)))\n",
    "# model.add(Dropout(0.2))\n",
    "\n",
    "# VGG Block    \n",
    "model.add(Conv2D(128, (3, 3), activation='relu', kernel_initializer='he_uniform', padding='same'))\n",
    "model.add(Conv2D(128, (3, 3), activation='relu', kernel_initializer='he_uniform', padding='same'))\n",
    "model.add(MaxPooling2D((2, 2)))\n",
    "# model.add(Dropout(0.2))\n",
    "\n",
    "# # VGG Block    \n",
    "# model.add(Conv2D(256, (3, 3), activation='relu', kernel_initializer='he_uniform', padding='same'))\n",
    "# model.add(Conv2D(256, (3, 3), activation='relu', kernel_initializer='he_uniform', padding='same'))\n",
    "# model.add(MaxPooling2D((2, 2)))\n",
    "# model.add(Dropout(0.2))\n",
    "\n",
    "# example output part of the model\n",
    "model.add(Flatten())\n",
    "model.add(Dense(256, activation='relu', kernel_initializer='he_uniform'))\n",
    "# model.add(Dropout(0.2))\n",
    "\n",
    "model.add(Dense(out_nodes, activation='softmax'))\n",
    "\n",
    "# compile model\n",
    "model.compile(loss='categorical_crossentropy', optimizer='adam',metrics=['accuracy'])"
   ]
  },
  {
   "cell_type": "code",
   "execution_count": 15,
   "id": "other-demonstration",
   "metadata": {},
   "outputs": [
    {
     "name": "stdout",
     "output_type": "stream",
     "text": [
      "Model: \"sequential\"\n",
      "_________________________________________________________________\n",
      "Layer (type)                 Output Shape              Param #   \n",
      "=================================================================\n",
      "conv2d (Conv2D)              (None, 100, 100, 32)      896       \n",
      "_________________________________________________________________\n",
      "conv2d_1 (Conv2D)            (None, 100, 100, 32)      9248      \n",
      "_________________________________________________________________\n",
      "max_pooling2d (MaxPooling2D) (None, 50, 50, 32)        0         \n",
      "_________________________________________________________________\n",
      "conv2d_2 (Conv2D)            (None, 50, 50, 64)        18496     \n",
      "_________________________________________________________________\n",
      "conv2d_3 (Conv2D)            (None, 50, 50, 64)        36928     \n",
      "_________________________________________________________________\n",
      "max_pooling2d_1 (MaxPooling2 (None, 25, 25, 64)        0         \n",
      "_________________________________________________________________\n",
      "conv2d_4 (Conv2D)            (None, 25, 25, 128)       73856     \n",
      "_________________________________________________________________\n",
      "conv2d_5 (Conv2D)            (None, 25, 25, 128)       147584    \n",
      "_________________________________________________________________\n",
      "max_pooling2d_2 (MaxPooling2 (None, 12, 12, 128)       0         \n",
      "_________________________________________________________________\n",
      "flatten (Flatten)            (None, 18432)             0         \n",
      "_________________________________________________________________\n",
      "dense (Dense)                (None, 256)               4718848   \n",
      "_________________________________________________________________\n",
      "dense_1 (Dense)              (None, 50)                12850     \n",
      "=================================================================\n",
      "Total params: 5,018,706\n",
      "Trainable params: 5,018,706\n",
      "Non-trainable params: 0\n",
      "_________________________________________________________________\n"
     ]
    }
   ],
   "source": [
    "model.summary()"
   ]
  },
  {
   "cell_type": "code",
   "execution_count": 16,
   "id": "blessed-sleep",
   "metadata": {},
   "outputs": [],
   "source": [
    "early_stop = EarlyStopping(monitor='val_loss', patience=7)"
   ]
  },
  {
   "cell_type": "code",
   "execution_count": 17,
   "id": "marked-teach",
   "metadata": {},
   "outputs": [],
   "source": [
    "batch_size = 64"
   ]
  },
  {
   "cell_type": "code",
   "execution_count": 18,
   "id": "revolutionary-japanese",
   "metadata": {},
   "outputs": [
    {
     "data": {
      "text/plain": [
       "(100, 100, 3)"
      ]
     },
     "execution_count": 18,
     "metadata": {},
     "output_type": "execute_result"
    }
   ],
   "source": [
    "image_shape"
   ]
  },
  {
   "cell_type": "code",
   "execution_count": 19,
   "id": "international-mitchell",
   "metadata": {},
   "outputs": [
    {
     "name": "stdout",
     "output_type": "stream",
     "text": [
      "Found 50 images belonging to 50 classes.\n",
      "Found 50 images belonging to 50 classes.\n"
     ]
    }
   ],
   "source": [
    "train_image_gen = image_gen.flow_from_directory(train_path,\n",
    "                                               target_size=image_shape[:2],\n",
    "                                                color_mode='rgb',\n",
    "                                               batch_size=batch_size,\n",
    "                                               class_mode='categorical')\n",
    "\n",
    "test_image_gen = image_gen.flow_from_directory(test_path,\n",
    "                                               target_size=image_shape[:2],\n",
    "                                               color_mode='rgb',\n",
    "                                               batch_size=batch_size,\n",
    "                                               class_mode='categorical',\n",
    "                                               shuffle=False)"
   ]
  },
  {
   "cell_type": "code",
   "execution_count": 20,
   "id": "sharp-marriage",
   "metadata": {
    "scrolled": false
   },
   "outputs": [
    {
     "name": "stdout",
     "output_type": "stream",
     "text": [
      "WARNING:tensorflow:From <ipython-input-20-0b3e0a500529>:1: Model.fit_generator (from tensorflow.python.keras.engine.training) is deprecated and will be removed in a future version.\n",
      "Instructions for updating:\n",
      "Please use Model.fit, which supports generators.\n",
      "Epoch 1/500\n",
      "1/1 [==============================] - 0s 454ms/step - loss: 4.2752 - accuracy: 0.0000e+00 - val_loss: 5.2855 - val_accuracy: 0.0200\n",
      "Epoch 2/500\n",
      "1/1 [==============================] - 0s 215ms/step - loss: 5.2279 - accuracy: 0.0400 - val_loss: 4.1275 - val_accuracy: 0.0400\n",
      "Epoch 3/500\n",
      "1/1 [==============================] - 0s 258ms/step - loss: 4.1727 - accuracy: 0.0200 - val_loss: 3.8484 - val_accuracy: 0.0400\n",
      "Epoch 4/500\n",
      "1/1 [==============================] - 0s 230ms/step - loss: 3.8458 - accuracy: 0.0600 - val_loss: 3.7787 - val_accuracy: 0.1000\n",
      "Epoch 5/500\n",
      "1/1 [==============================] - 0s 211ms/step - loss: 3.7990 - accuracy: 0.0800 - val_loss: 3.7382 - val_accuracy: 0.0800\n",
      "Epoch 6/500\n",
      "1/1 [==============================] - 0s 213ms/step - loss: 3.7622 - accuracy: 0.0400 - val_loss: 3.7265 - val_accuracy: 0.0400\n",
      "Epoch 7/500\n",
      "1/1 [==============================] - 0s 215ms/step - loss: 3.7213 - accuracy: 0.0800 - val_loss: 3.6419 - val_accuracy: 0.0800\n",
      "Epoch 8/500\n",
      "1/1 [==============================] - 0s 204ms/step - loss: 3.6559 - accuracy: 0.1000 - val_loss: 3.5704 - val_accuracy: 0.1200\n",
      "Epoch 9/500\n",
      "1/1 [==============================] - 0s 208ms/step - loss: 3.5365 - accuracy: 0.1600 - val_loss: 3.3852 - val_accuracy: 0.1600\n",
      "Epoch 10/500\n",
      "1/1 [==============================] - 0s 257ms/step - loss: 3.3910 - accuracy: 0.1800 - val_loss: 3.1760 - val_accuracy: 0.2000\n",
      "Epoch 11/500\n",
      "1/1 [==============================] - 0s 204ms/step - loss: 3.1926 - accuracy: 0.2200 - val_loss: 2.9396 - val_accuracy: 0.1800\n",
      "Epoch 12/500\n",
      "1/1 [==============================] - 0s 203ms/step - loss: 2.9612 - accuracy: 0.2800 - val_loss: 2.7977 - val_accuracy: 0.1800\n",
      "Epoch 13/500\n",
      "1/1 [==============================] - 0s 202ms/step - loss: 2.8063 - accuracy: 0.2800 - val_loss: 2.4552 - val_accuracy: 0.3800\n",
      "Epoch 14/500\n",
      "1/1 [==============================] - 0s 216ms/step - loss: 2.5880 - accuracy: 0.3400 - val_loss: 2.1377 - val_accuracy: 0.4800\n",
      "Epoch 15/500\n",
      "1/1 [==============================] - 0s 221ms/step - loss: 2.1297 - accuracy: 0.5200 - val_loss: 2.1544 - val_accuracy: 0.5400\n",
      "Epoch 16/500\n",
      "1/1 [==============================] - 0s 208ms/step - loss: 2.1529 - accuracy: 0.5000 - val_loss: 1.8869 - val_accuracy: 0.5400\n",
      "Epoch 17/500\n",
      "1/1 [==============================] - 0s 204ms/step - loss: 1.7919 - accuracy: 0.5000 - val_loss: 1.5427 - val_accuracy: 0.6400\n",
      "Epoch 18/500\n",
      "1/1 [==============================] - 0s 202ms/step - loss: 2.0724 - accuracy: 0.4400 - val_loss: 1.7856 - val_accuracy: 0.4600\n",
      "Epoch 19/500\n",
      "1/1 [==============================] - 0s 209ms/step - loss: 1.5949 - accuracy: 0.4600 - val_loss: 1.4345 - val_accuracy: 0.5800\n",
      "Epoch 20/500\n",
      "1/1 [==============================] - 0s 200ms/step - loss: 1.3278 - accuracy: 0.6400 - val_loss: 1.4139 - val_accuracy: 0.5000\n",
      "Epoch 21/500\n",
      "1/1 [==============================] - 0s 204ms/step - loss: 1.6189 - accuracy: 0.5400 - val_loss: 1.2735 - val_accuracy: 0.6600\n",
      "Epoch 22/500\n",
      "1/1 [==============================] - 0s 205ms/step - loss: 1.2018 - accuracy: 0.6800 - val_loss: 1.2500 - val_accuracy: 0.6400\n",
      "Epoch 23/500\n",
      "1/1 [==============================] - 0s 209ms/step - loss: 1.0935 - accuracy: 0.6400 - val_loss: 1.0757 - val_accuracy: 0.6400\n",
      "Epoch 24/500\n",
      "1/1 [==============================] - 0s 199ms/step - loss: 0.9655 - accuracy: 0.7200 - val_loss: 1.1903 - val_accuracy: 0.6400\n",
      "Epoch 25/500\n",
      "1/1 [==============================] - 0s 201ms/step - loss: 1.2102 - accuracy: 0.6800 - val_loss: 0.9415 - val_accuracy: 0.7400\n",
      "Epoch 26/500\n",
      "1/1 [==============================] - 0s 205ms/step - loss: 1.0839 - accuracy: 0.7000 - val_loss: 0.7071 - val_accuracy: 0.8000\n",
      "Epoch 27/500\n",
      "1/1 [==============================] - 0s 199ms/step - loss: 0.8034 - accuracy: 0.8400 - val_loss: 0.7679 - val_accuracy: 0.7800\n",
      "Epoch 28/500\n",
      "1/1 [==============================] - 0s 201ms/step - loss: 0.9171 - accuracy: 0.6400 - val_loss: 0.8169 - val_accuracy: 0.7800\n",
      "Epoch 29/500\n",
      "1/1 [==============================] - 0s 214ms/step - loss: 0.6589 - accuracy: 0.8600 - val_loss: 0.9148 - val_accuracy: 0.8000\n",
      "Epoch 30/500\n",
      "1/1 [==============================] - 0s 206ms/step - loss: 0.8196 - accuracy: 0.7200 - val_loss: 0.5889 - val_accuracy: 0.8400\n",
      "Epoch 31/500\n",
      "1/1 [==============================] - 0s 204ms/step - loss: 0.6439 - accuracy: 0.7800 - val_loss: 0.7457 - val_accuracy: 0.7800\n",
      "Epoch 32/500\n",
      "1/1 [==============================] - 0s 205ms/step - loss: 0.5543 - accuracy: 0.8200 - val_loss: 0.7619 - val_accuracy: 0.7800\n",
      "Epoch 33/500\n",
      "1/1 [==============================] - 0s 205ms/step - loss: 0.6646 - accuracy: 0.7400 - val_loss: 0.9384 - val_accuracy: 0.8400\n",
      "Epoch 34/500\n",
      "1/1 [==============================] - 0s 200ms/step - loss: 1.0648 - accuracy: 0.8200 - val_loss: 1.3786 - val_accuracy: 0.6600\n",
      "Epoch 35/500\n",
      "1/1 [==============================] - 0s 203ms/step - loss: 1.3895 - accuracy: 0.7200 - val_loss: 0.9110 - val_accuracy: 0.7600\n",
      "Epoch 36/500\n",
      "1/1 [==============================] - 0s 209ms/step - loss: 0.7199 - accuracy: 0.7600 - val_loss: 0.5693 - val_accuracy: 0.8800\n",
      "Epoch 37/500\n",
      "1/1 [==============================] - 0s 204ms/step - loss: 0.7460 - accuracy: 0.7600 - val_loss: 0.5620 - val_accuracy: 0.8400\n",
      "Epoch 38/500\n",
      "1/1 [==============================] - 0s 206ms/step - loss: 0.9166 - accuracy: 0.7200 - val_loss: 0.4730 - val_accuracy: 0.8600\n",
      "Epoch 39/500\n",
      "1/1 [==============================] - 0s 199ms/step - loss: 0.5896 - accuracy: 0.8400 - val_loss: 0.6858 - val_accuracy: 0.8000\n",
      "Epoch 40/500\n",
      "1/1 [==============================] - 0s 205ms/step - loss: 0.5200 - accuracy: 0.8400 - val_loss: 0.5242 - val_accuracy: 0.8000\n",
      "Epoch 41/500\n",
      "1/1 [==============================] - 0s 205ms/step - loss: 0.4365 - accuracy: 0.9000 - val_loss: 0.4523 - val_accuracy: 0.9000\n",
      "Epoch 42/500\n",
      "1/1 [==============================] - 0s 212ms/step - loss: 0.4573 - accuracy: 0.9000 - val_loss: 0.5502 - val_accuracy: 0.8200\n",
      "Epoch 43/500\n",
      "1/1 [==============================] - 0s 205ms/step - loss: 0.6140 - accuracy: 0.8200 - val_loss: 0.3471 - val_accuracy: 0.9400\n",
      "Epoch 44/500\n",
      "1/1 [==============================] - 0s 216ms/step - loss: 0.5807 - accuracy: 0.8600 - val_loss: 0.5658 - val_accuracy: 0.8600\n",
      "Epoch 45/500\n",
      "1/1 [==============================] - 0s 206ms/step - loss: 0.3788 - accuracy: 0.8800 - val_loss: 0.2159 - val_accuracy: 0.9200\n",
      "Epoch 46/500\n",
      "1/1 [==============================] - 0s 205ms/step - loss: 0.3545 - accuracy: 0.9400 - val_loss: 0.1913 - val_accuracy: 0.9600\n",
      "Epoch 47/500\n",
      "1/1 [==============================] - 0s 203ms/step - loss: 0.1685 - accuracy: 0.9600 - val_loss: 0.1837 - val_accuracy: 0.9400\n",
      "Epoch 48/500\n",
      "1/1 [==============================] - 0s 202ms/step - loss: 0.2332 - accuracy: 0.9200 - val_loss: 0.2961 - val_accuracy: 0.9200\n",
      "Epoch 49/500\n",
      "1/1 [==============================] - 0s 202ms/step - loss: 0.1423 - accuracy: 0.9600 - val_loss: 0.1445 - val_accuracy: 0.9800\n",
      "Epoch 50/500\n",
      "1/1 [==============================] - 0s 214ms/step - loss: 0.2210 - accuracy: 0.9600 - val_loss: 0.2324 - val_accuracy: 0.9400\n",
      "Epoch 51/500\n",
      "1/1 [==============================] - 0s 203ms/step - loss: 0.1754 - accuracy: 0.9800 - val_loss: 0.1944 - val_accuracy: 0.9200\n",
      "Epoch 52/500\n",
      "1/1 [==============================] - 0s 220ms/step - loss: 0.1266 - accuracy: 1.0000 - val_loss: 0.1521 - val_accuracy: 0.9400\n",
      "Epoch 53/500\n",
      "1/1 [==============================] - 0s 207ms/step - loss: 0.0735 - accuracy: 1.0000 - val_loss: 0.1390 - val_accuracy: 0.9400\n",
      "Epoch 54/500\n",
      "1/1 [==============================] - 0s 215ms/step - loss: 0.2080 - accuracy: 0.9200 - val_loss: 0.0811 - val_accuracy: 0.9800\n",
      "Epoch 55/500\n",
      "1/1 [==============================] - 0s 202ms/step - loss: 0.1561 - accuracy: 0.9600 - val_loss: 0.5381 - val_accuracy: 0.9000\n",
      "Epoch 56/500\n",
      "1/1 [==============================] - 0s 206ms/step - loss: 0.2559 - accuracy: 0.9000 - val_loss: 0.4036 - val_accuracy: 0.9200\n"
     ]
    },
    {
     "name": "stdout",
     "output_type": "stream",
     "text": [
      "Epoch 57/500\n",
      "1/1 [==============================] - 0s 201ms/step - loss: 0.2095 - accuracy: 0.9200 - val_loss: 0.1406 - val_accuracy: 0.9600\n",
      "Epoch 58/500\n",
      "1/1 [==============================] - 0s 204ms/step - loss: 0.0746 - accuracy: 0.9800 - val_loss: 0.0993 - val_accuracy: 0.9800\n",
      "Epoch 59/500\n",
      "1/1 [==============================] - 0s 205ms/step - loss: 0.0984 - accuracy: 0.9800 - val_loss: 0.3900 - val_accuracy: 0.8600\n",
      "Epoch 60/500\n",
      "1/1 [==============================] - 0s 209ms/step - loss: 0.2199 - accuracy: 0.9600 - val_loss: 0.1242 - val_accuracy: 0.9600\n",
      "Epoch 61/500\n",
      "1/1 [==============================] - 0s 205ms/step - loss: 0.3970 - accuracy: 0.9600 - val_loss: 0.1684 - val_accuracy: 0.9200\n"
     ]
    }
   ],
   "source": [
    "results = model.fit_generator(train_image_gen,epochs=500,\n",
    "                              validation_data=test_image_gen,\n",
    "                             callbacks=[early_stop])"
   ]
  },
  {
   "cell_type": "code",
   "execution_count": 21,
   "id": "atomic-cartoon",
   "metadata": {},
   "outputs": [],
   "source": [
    "losses = pd.DataFrame(model.history.history)"
   ]
  },
  {
   "cell_type": "code",
   "execution_count": 22,
   "id": "described-cooking",
   "metadata": {},
   "outputs": [
    {
     "data": {
      "text/plain": [
       "<AxesSubplot:>"
      ]
     },
     "execution_count": 22,
     "metadata": {},
     "output_type": "execute_result"
    },
    {
     "data": {
      "image/png": "[encoded data removed]",
      "text/plain": [
       "<Figure size 432x288 with 1 Axes>"
      ]
     },
     "metadata": {
      "needs_background": "light"
     },
     "output_type": "display_data"
    }
   ],
   "source": [
    "losses[['loss','val_loss']].plot()"
   ]
  },
  {
   "cell_type": "code",
   "execution_count": 23,
   "id": "common-immigration",
   "metadata": {},
   "outputs": [
    {
     "data": {
      "text/plain": [
       "['loss', 'accuracy']"
      ]
     },
     "execution_count": 23,
     "metadata": {},
     "output_type": "execute_result"
    }
   ],
   "source": [
    "model.metrics_names"
   ]
  },
  {
   "cell_type": "code",
   "execution_count": 40,
   "id": "executive-accreditation",
   "metadata": {},
   "outputs": [
    {
     "name": "stdout",
     "output_type": "stream",
     "text": [
      "INFO:tensorflow:Assets written to: Models\\flag_model_21-21-21\\assets\n"
     ]
    }
   ],
   "source": [
    "model.save(\"Models\\\\flag_model_6-21-21\")"
   ]
  },
  {
   "cell_type": "code",
   "execution_count": null,
   "id": "israeli-inside",
   "metadata": {},
   "outputs": [],
   "source": []
  },
  {
   "cell_type": "code",
   "execution_count": null,
   "id": "processed-potato",
   "metadata": {},
   "outputs": [],
   "source": []
  },
  {
   "cell_type": "code",
   "execution_count": 24,
   "id": "lasting-guyana",
   "metadata": {},
   "outputs": [
    {
     "data": {
      "text/plain": [
       "array([ 0,  1,  2,  3,  4,  5,  6,  7,  8,  9, 10, 11, 12, 13, 14, 15, 16,\n",
       "       17, 18, 19, 20, 21, 22, 23, 24, 25, 26, 27, 28, 29, 30, 31, 32, 33,\n",
       "       34, 35, 36, 37, 38, 39, 40, 41, 42, 43, 44, 45, 46, 47, 48, 49])"
      ]
     },
     "execution_count": 24,
     "metadata": {},
     "output_type": "execute_result"
    }
   ],
   "source": [
    "test_image_gen.classes"
   ]
  },
  {
   "cell_type": "code",
   "execution_count": 25,
   "id": "genetic-alaska",
   "metadata": {},
   "outputs": [],
   "source": [
    "pred = model.predict(test_image_gen)"
   ]
  },
  {
   "cell_type": "code",
   "execution_count": 26,
   "id": "liquid-medicine",
   "metadata": {},
   "outputs": [
    {
     "data": {
      "text/plain": [
       "array([[8.3146012e-01, 9.7063790e-08, 1.0955139e-14, ..., 5.0476393e-13,\n",
       "        1.0137161e-05, 1.5028163e-12],\n",
       "       [2.8658129e-04, 9.5758921e-01, 3.9091560e-08, ..., 1.4587973e-06,\n",
       "        6.1909705e-03, 3.0645714e-04],\n",
       "       [2.0612883e-23, 2.5210630e-34, 1.0000000e+00, ..., 0.0000000e+00,\n",
       "        5.4585657e-29, 3.8444600e-24],\n",
       "       ...,\n",
       "       [1.4293068e-14, 1.1889418e-14, 1.7635303e-19, ..., 9.9999416e-01,\n",
       "        3.9720996e-12, 1.6808127e-15],\n",
       "       [1.0158930e-05, 4.3633841e-06, 1.8067680e-12, ..., 5.3267872e-13,\n",
       "        9.9988806e-01, 2.2468273e-08],\n",
       "       [3.9606077e-10, 5.6306158e-11, 4.8587563e-15, ..., 4.4157347e-16,\n",
       "        7.0764345e-12, 9.9997580e-01]], dtype=float32)"
      ]
     },
     "execution_count": 26,
     "metadata": {},
     "output_type": "execute_result"
    }
   ],
   "source": [
    "pred"
   ]
  },
  {
   "cell_type": "code",
   "execution_count": null,
   "id": "overall-sally",
   "metadata": {},
   "outputs": [],
   "source": []
  },
  {
   "cell_type": "code",
   "execution_count": null,
   "id": "suburban-convert",
   "metadata": {},
   "outputs": [],
   "source": []
  },
  {
   "cell_type": "code",
   "execution_count": 15,
   "id": "second-mailman",
   "metadata": {},
   "outputs": [],
   "source": [
    "from tensorflow.keras.preprocessing import image"
   ]
  },
  {
   "cell_type": "code",
   "execution_count": 28,
   "id": "approved-advertiser",
   "metadata": {},
   "outputs": [],
   "source": [
    "state = 'Alaska'"
   ]
  },
  {
   "cell_type": "code",
   "execution_count": 29,
   "id": "solar-amino",
   "metadata": {},
   "outputs": [
    {
     "data": {
      "image/png": "[encoded data removed]",
      "text/plain": [
       "<PIL.Image.Image image mode=RGB size=100x100 at 0x19BBE6D69D0>"
      ]
     },
     "execution_count": 29,
     "metadata": {},
     "output_type": "execute_result"
    }
   ],
   "source": [
    "flag_path = train_path + state +'\\\\' + state + '.png'\n",
    "\n",
    "in_image = image.load_img(flag_path, target_size = image_shape)\n",
    "in_image"
   ]
  },
  {
   "cell_type": "code",
   "execution_count": 30,
   "id": "funded-lodge",
   "metadata": {},
   "outputs": [],
   "source": [
    "in_image_array = image.img_to_array(in_image)"
   ]
  },
  {
   "cell_type": "code",
   "execution_count": 31,
   "id": "international-harrison",
   "metadata": {},
   "outputs": [],
   "source": [
    "in_image_array = np.expand_dims(in_image_array, axis= 0)"
   ]
  },
  {
   "cell_type": "code",
   "execution_count": 32,
   "id": "offensive-canadian",
   "metadata": {},
   "outputs": [],
   "source": [
    "# model.predict(in_image_array)"
   ]
  },
  {
   "cell_type": "code",
   "execution_count": 33,
   "id": "regulated-baseball",
   "metadata": {},
   "outputs": [],
   "source": [
    "max_index_row = np.argmax(model.predict(in_image_array), axis=1)\n",
    "# max_index_row"
   ]
  },
  {
   "cell_type": "code",
   "execution_count": 34,
   "id": "forty-cowboy",
   "metadata": {},
   "outputs": [
    {
     "data": {
      "text/html": [
       "<div>\n",
       "<style scoped>\n",
       "    .dataframe tbody tr th:only-of-type {\n",
       "        vertical-align: middle;\n",
       "    }\n",
       "\n",
       "    .dataframe tbody tr th {\n",
       "        vertical-align: top;\n",
       "    }\n",
       "\n",
       "    .dataframe thead th {\n",
       "        text-align: right;\n",
       "    }\n",
       "</style>\n",
       "<table border=\"1\" class=\"dataframe\">\n",
       "  <thead>\n",
       "    <tr style=\"text-align: right;\">\n",
       "      <th></th>\n",
       "      <th>Country</th>\n",
       "      <th>ImageURL</th>\n",
       "    </tr>\n",
       "  </thead>\n",
       "  <tbody>\n",
       "    <tr>\n",
       "      <th>1</th>\n",
       "      <td>Alaska</td>\n",
       "      <td>https://upload.wikimedia.org/wikipedia/commons...</td>\n",
       "    </tr>\n",
       "  </tbody>\n",
       "</table>\n",
       "</div>"
      ],
      "text/plain": [
       "  Country                                           ImageURL\n",
       "1  Alaska  https://upload.wikimedia.org/wikipedia/commons..."
      ]
     },
     "execution_count": 34,
     "metadata": {},
     "output_type": "execute_result"
    }
   ],
   "source": [
    "df.iloc[max_index_row]"
   ]
  },
  {
   "cell_type": "code",
   "execution_count": null,
   "id": "secondary-shopping",
   "metadata": {},
   "outputs": [],
   "source": []
  },
  {
   "cell_type": "code",
   "execution_count": null,
   "id": "private-single",
   "metadata": {},
   "outputs": [],
   "source": []
  },
  {
   "cell_type": "code",
   "execution_count": 16,
   "id": "empty-deficit",
   "metadata": {},
   "outputs": [
    {
     "ename": "NameError",
     "evalue": "name 'image_shape' is not defined",
     "output_type": "error",
     "traceback": [
      "\u001b[1;31m---------------------------------------------------------------------------\u001b[0m",
      "\u001b[1;31mNameError\u001b[0m                                 Traceback (most recent call last)",
      "\u001b[1;32m<ipython-input-16-525bb853b870>\u001b[0m in \u001b[0;36m<module>\u001b[1;34m\u001b[0m\n\u001b[0;32m      1\u001b[0m \u001b[0mflag_path\u001b[0m \u001b[1;33m=\u001b[0m \u001b[1;34m'images\\\\cali_test.png'\u001b[0m\u001b[1;33m\u001b[0m\u001b[1;33m\u001b[0m\u001b[0m\n\u001b[0;32m      2\u001b[0m \u001b[1;33m\u001b[0m\u001b[0m\n\u001b[1;32m----> 3\u001b[1;33m \u001b[0min_image\u001b[0m \u001b[1;33m=\u001b[0m \u001b[0mimage\u001b[0m\u001b[1;33m.\u001b[0m\u001b[0mload_img\u001b[0m\u001b[1;33m(\u001b[0m\u001b[0mflag_path\u001b[0m\u001b[1;33m,\u001b[0m \u001b[0mtarget_size\u001b[0m \u001b[1;33m=\u001b[0m \u001b[0mimage_shape\u001b[0m\u001b[1;33m)\u001b[0m\u001b[1;33m\u001b[0m\u001b[1;33m\u001b[0m\u001b[0m\n\u001b[0m\u001b[0;32m      4\u001b[0m \u001b[0min_image\u001b[0m\u001b[1;33m\u001b[0m\u001b[1;33m\u001b[0m\u001b[0m\n",
      "\u001b[1;31mNameError\u001b[0m: name 'image_shape' is not defined"
     ]
    }
   ],
   "source": [
    "flag_path = 'images\\\\cali_test.png'\n",
    "\n",
    "in_image = image.load_img(flag_path, target_size = image_shape)\n",
    "in_image"
   ]
  },
  {
   "cell_type": "code",
   "execution_count": 36,
   "id": "transsexual-premiere",
   "metadata": {},
   "outputs": [
    {
     "data": {
      "text/html": [
       "<div>\n",
       "<style scoped>\n",
       "    .dataframe tbody tr th:only-of-type {\n",
       "        vertical-align: middle;\n",
       "    }\n",
       "\n",
       "    .dataframe tbody tr th {\n",
       "        vertical-align: top;\n",
       "    }\n",
       "\n",
       "    .dataframe thead th {\n",
       "        text-align: right;\n",
       "    }\n",
       "</style>\n",
       "<table border=\"1\" class=\"dataframe\">\n",
       "  <thead>\n",
       "    <tr style=\"text-align: right;\">\n",
       "      <th></th>\n",
       "      <th>Country</th>\n",
       "      <th>ImageURL</th>\n",
       "    </tr>\n",
       "  </thead>\n",
       "  <tbody>\n",
       "    <tr>\n",
       "      <th>4</th>\n",
       "      <td>California</td>\n",
       "      <td>https://upload.wikimedia.org/wikipedia/commons...</td>\n",
       "    </tr>\n",
       "  </tbody>\n",
       "</table>\n",
       "</div>"
      ],
      "text/plain": [
       "      Country                                           ImageURL\n",
       "4  California  https://upload.wikimedia.org/wikipedia/commons..."
      ]
     },
     "execution_count": 36,
     "metadata": {},
     "output_type": "execute_result"
    }
   ],
   "source": [
    "in_image_array = image.img_to_array(in_image)\n",
    "in_image_array = np.expand_dims(in_image_array, axis= 0)\n",
    "max_index_row = np.argmax(model.predict(in_image_array), axis=1)\n",
    "df.iloc[max_index_row]"
   ]
  },
  {
   "cell_type": "code",
   "execution_count": null,
   "id": "rental-liver",
   "metadata": {},
   "outputs": [],
   "source": []
  }
 ],
 "metadata": {
  "kernelspec": {
   "display_name": "Python 3",
   "language": "python",
   "name": "python3"
  },
  "language_info": {
   "codemirror_mode": {
    "name": "ipython",
    "version": 3
   },
   "file_extension": ".py",
   "mimetype": "text/x-python",
   "name": "python",
   "nbconvert_exporter": "python",
   "pygments_lexer": "ipython3",
   "version": "3.8.8"
  }
 },
 "nbformat": 4,
 "nbformat_minor": 5
}
