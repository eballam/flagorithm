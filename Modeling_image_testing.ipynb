{
 "cells": [
  {
   "cell_type": "code",
   "execution_count": 1,
   "id": "resident-greenhouse",
   "metadata": {},
   "outputs": [],
   "source": [
    "# https://en.wikipedia.org/wiki/Flags_of_the_U.S._states_and_territories"
   ]
  },
  {
   "cell_type": "code",
   "execution_count": 2,
   "id": "hungry-walker",
   "metadata": {},
   "outputs": [],
   "source": [
    "import cairosvg\n",
    "import pandas as pd\n",
    "import os\n",
    "import numpy as np\n",
    "\n",
    "from matplotlib.image import imread\n",
    "import matplotlib.pyplot as plt\n",
    "import seaborn as sns\n",
    "\n",
    "from tensorflow.keras.preprocessing.image import ImageDataGenerator\n",
    "\n",
    "from tensorflow.keras.models import Sequential\n",
    "from tensorflow.keras.layers import Activation, Dropout, Flatten, Dense, Conv2D, MaxPooling2D,BatchNormalization\n",
    "from tensorflow.keras.callbacks import EarlyStopping\n",
    "\n",
    "import warnings\n",
    "warnings.filterwarnings('ignore')"
   ]
  },
  {
   "cell_type": "code",
   "execution_count": 21,
   "id": "acting-butter",
   "metadata": {},
   "outputs": [],
   "source": [
    "# reading in the dataframe\n",
    "df = pd.read_csv('us_state.csv')\n",
    "# df"
   ]
  },
  {
   "cell_type": "code",
   "execution_count": 4,
   "id": "moving-absorption",
   "metadata": {},
   "outputs": [],
   "source": [
    "train_path = 'States\\\\'\n",
    "test_path = 'States\\\\'"
   ]
  },
  {
   "cell_type": "code",
   "execution_count": 6,
   "id": "worst-honor",
   "metadata": {},
   "outputs": [],
   "source": [
    "dim1 = []\n",
    "dim2 = []\n",
    "\n",
    "for image_folder in os.listdir(train_path):\n",
    "    try:\n",
    "        for image in os.listdir(train_path + image_folder + '\\\\'):\n",
    "            img = imread(train_path + image_folder + '\\\\' + image)\n",
    "            d1,d2,colors = img.shape\n",
    "            dim1.append(d1)\n",
    "            dim2.append(d2)\n",
    "    except:\n",
    "        print(image_folder)"
   ]
  },
  {
   "cell_type": "code",
   "execution_count": 7,
   "id": "dimensional-proceeding",
   "metadata": {},
   "outputs": [
    {
     "data": {
      "text/plain": [
       "(100, 100, 3)"
      ]
     },
     "execution_count": 7,
     "metadata": {},
     "output_type": "execute_result"
    }
   ],
   "source": [
    "image_shape = (int(round(np.mean(dim1))),int(round(np.mean(dim2))),3)\n",
    "image_shape "
   ]
  },
  {
   "cell_type": "code",
   "execution_count": 8,
   "id": "suburban-convert",
   "metadata": {},
   "outputs": [],
   "source": [
    "from tensorflow import keras\n",
    "model = keras.models.load_model('Models\\\\flag_model_6-21-21')"
   ]
  },
  {
   "cell_type": "code",
   "execution_count": 10,
   "id": "second-mailman",
   "metadata": {},
   "outputs": [],
   "source": [
    "from tensorflow.keras.preprocessing import image"
   ]
  },
  {
   "cell_type": "code",
   "execution_count": 11,
   "id": "empty-deficit",
   "metadata": {},
   "outputs": [
    {
     "data": {
      "image/png": "[encoded data removed]",
      "text/plain": [
       "<PIL.Image.Image image mode=RGB size=100x100 at 0x29B0C021D60>"
      ]
     },
     "execution_count": 11,
     "metadata": {},
     "output_type": "execute_result"
    }
   ],
   "source": [
    "flag_path = 'images\\\\illinois_test.png'\n",
    "\n",
    "in_image = image.load_img(flag_path, target_size = image_shape)\n",
    "in_image"
   ]
  },
  {
   "cell_type": "code",
   "execution_count": 12,
   "id": "transsexual-premiere",
   "metadata": {},
   "outputs": [
    {
     "data": {
      "text/html": [
       "<div>\n",
       "<style scoped>\n",
       "    .dataframe tbody tr th:only-of-type {\n",
       "        vertical-align: middle;\n",
       "    }\n",
       "\n",
       "    .dataframe tbody tr th {\n",
       "        vertical-align: top;\n",
       "    }\n",
       "\n",
       "    .dataframe thead th {\n",
       "        text-align: right;\n",
       "    }\n",
       "</style>\n",
       "<table border=\"1\" class=\"dataframe\">\n",
       "  <thead>\n",
       "    <tr style=\"text-align: right;\">\n",
       "      <th></th>\n",
       "      <th>Country</th>\n",
       "      <th>ImageURL</th>\n",
       "    </tr>\n",
       "  </thead>\n",
       "  <tbody>\n",
       "    <tr>\n",
       "      <th>20</th>\n",
       "      <td>Massachusetts</td>\n",
       "      <td>https://upload.wikimedia.org/wikipedia/commons...</td>\n",
       "    </tr>\n",
       "  </tbody>\n",
       "</table>\n",
       "</div>"
      ],
      "text/plain": [
       "          Country                                           ImageURL\n",
       "20  Massachusetts  https://upload.wikimedia.org/wikipedia/commons..."
      ]
     },
     "execution_count": 12,
     "metadata": {},
     "output_type": "execute_result"
    }
   ],
   "source": [
    "in_image_array = image.img_to_array(in_image)\n",
    "in_image_array = np.expand_dims(in_image_array, axis= 0)\n",
    "max_index_row = np.argmax(model.predict(in_image_array), axis=1)\n",
    "df.iloc[max_index_row]"
   ]
  },
  {
   "cell_type": "code",
   "execution_count": 20,
   "id": "rental-liver",
   "metadata": {},
   "outputs": [
    {
     "data": {
      "image/png": "[encoded data removed]",
      "text/plain": [
       "<PIL.Image.Image image mode=RGB size=100x100 at 0x29B0BFF9160>"
      ]
     },
     "execution_count": 20,
     "metadata": {},
     "output_type": "execute_result"
    }
   ],
   "source": [
    "flag_path = 'States\\\\' + df.iloc[max_index_row].iloc[0,0] +\"\\\\\"\n",
    "flag_path = flag_path + os.listdir(flag_path)[0]\n",
    "\n",
    "in_image = image.load_img(flag_path, target_size = image_shape)\n",
    "in_image"
   ]
  },
  {
   "cell_type": "code",
   "execution_count": null,
   "id": "nasty-elevation",
   "metadata": {},
   "outputs": [],
   "source": []
  }
 ],
 "metadata": {
  "kernelspec": {
   "display_name": "Python 3",
   "language": "python",
   "name": "python3"
  },
  "language_info": {
   "codemirror_mode": {
    "name": "ipython",
    "version": 3
   },
   "file_extension": ".py",
   "mimetype": "text/x-python",
   "name": "python",
   "nbconvert_exporter": "python",
   "pygments_lexer": "ipython3",
   "version": "3.8.8"
  }
 },
 "nbformat": 4,
 "nbformat_minor": 5
}
