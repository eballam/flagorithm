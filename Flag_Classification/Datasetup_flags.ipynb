{
 "cells": [
  {
   "cell_type": "code",
   "execution_count": 1,
   "id": "resident-greenhouse",
   "metadata": {},
   "outputs": [],
   "source": [
    "# https://en.wikipedia.org/wiki/Flags_of_the_U.S._states_and_territories"
   ]
  },
  {
   "cell_type": "code",
   "execution_count": 24,
   "id": "hungry-walker",
   "metadata": {},
   "outputs": [],
   "source": [
    "import cairosvg\n",
    "import pandas as pd\n",
    "import os\n",
    "import numpy as np\n",
    "import shutil\n",
    "\n",
    "import warnings\n",
    "warnings.filterwarnings('ignore')"
   ]
  },
  {
   "cell_type": "code",
   "execution_count": 25,
   "id": "solved-cassette",
   "metadata": {},
   "outputs": [],
   "source": [
    "# reading in the dataframe\n",
    "df = pd.read_csv('us_state.csv')\n",
    "# df"
   ]
  },
  {
   "cell_type": "code",
   "execution_count": 27,
   "id": "prostate-ambassador",
   "metadata": {},
   "outputs": [],
   "source": [
    "try:\n",
    "    shutil.rmtree('States\\\\')\n",
    "except:\n",
    "    pass\n",
    "\n",
    "os.mkdir('States\\\\')"
   ]
  },
  {
   "cell_type": "code",
   "execution_count": 28,
   "id": "moving-absorption",
   "metadata": {},
   "outputs": [],
   "source": [
    "train_path = 'States\\\\'\n",
    "test_path = 'States\\\\'"
   ]
  },
  {
   "cell_type": "code",
   "execution_count": 29,
   "id": "mysterious-picture",
   "metadata": {},
   "outputs": [],
   "source": [
    "for index, row in df[:num_stats_data].iterrows():\n",
    "    try:\n",
    "        os.makedirs(train_path + str(row.Country))\n",
    "#         os.makedirs(test_path + str(row.Country))\n",
    "    except:\n",
    "#         print('Folder ' + str(row.Country) + ' already exists')\n",
    "        pass\n",
    "    try:\n",
    "        l = len(os.listdir(train_path + str(row.Country)))\n",
    "        path = train_path + str(row.Country) +'\\\\' + str(row.Country) + '_' +str(l) +'.png'\n",
    "        cairosvg.svg2png(url=row.ImageURL, write_to= path, output_width = 100, output_height = 100)\n",
    "    except:\n",
    "        print(row.ImageURL)"
   ]
  },
  {
   "cell_type": "code",
   "execution_count": null,
   "id": "rental-liver",
   "metadata": {},
   "outputs": [],
   "source": []
  }
 ],
 "metadata": {
  "kernelspec": {
   "display_name": "Python 3",
   "language": "python",
   "name": "python3"
  },
  "language_info": {
   "codemirror_mode": {
    "name": "ipython",
    "version": 3
   },
   "file_extension": ".py",
   "mimetype": "text/x-python",
   "name": "python",
   "nbconvert_exporter": "python",
   "pygments_lexer": "ipython3",
   "version": "3.8.8"
  }
 },
 "nbformat": 4,
 "nbformat_minor": 5
}
