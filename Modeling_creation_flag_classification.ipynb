{
 "cells": [
  {
   "cell_type": "code",
   "execution_count": 1,
   "id": "resident-greenhouse",
   "metadata": {},
   "outputs": [],
   "source": [
    "# https://en.wikipedia.org/wiki/Flags_of_the_U.S._states_and_territories"
   ]
  },
  {
   "cell_type": "code",
   "execution_count": 2,
   "id": "hungry-walker",
   "metadata": {},
   "outputs": [],
   "source": [
    "import cairosvg\n",
    "import pandas as pd\n",
    "import os\n",
    "import numpy as np\n",
    "\n",
    "from matplotlib.image import imread\n",
    "import matplotlib.pyplot as plt\n",
    "import seaborn as sns\n",
    "\n",
    "from tensorflow.keras.preprocessing.image import ImageDataGenerator\n",
    "\n",
    "from tensorflow.keras.models import Sequential\n",
    "from tensorflow.keras.layers import Activation, Dropout, Flatten, Dense, Conv2D, MaxPooling2D,BatchNormalization\n",
    "from tensorflow.keras.callbacks import EarlyStopping\n",
    "\n",
    "import warnings\n",
    "warnings.filterwarnings('ignore')"
   ]
  },
  {
   "cell_type": "code",
   "execution_count": 3,
   "id": "moving-absorption",
   "metadata": {},
   "outputs": [],
   "source": [
    "train_path = 'States\\\\'\n",
    "test_path = 'States\\\\'"
   ]
  },
  {
   "cell_type": "code",
   "execution_count": 4,
   "id": "worst-honor",
   "metadata": {},
   "outputs": [],
   "source": [
    "dim1 = []\n",
    "dim2 = []\n",
    "\n",
    "for image_folder in os.listdir(train_path):\n",
    "    try:\n",
    "        img = imread(train_path + image_folder + '\\\\' + image_folder +'.png')\n",
    "        d1,d2,colors = img.shape\n",
    "        dim1.append(d1)\n",
    "        dim2.append(d2)\n",
    "    except:\n",
    "        print(image_folder)"
   ]
  },
  {
   "cell_type": "code",
   "execution_count": 5,
   "id": "valid-ideal",
   "metadata": {},
   "outputs": [
    {
     "data": {
      "text/plain": [
       "<seaborn.axisgrid.JointGrid at 0x1ec125fe3a0>"
      ]
     },
     "execution_count": 5,
     "metadata": {},
     "output_type": "execute_result"
    },
    {
     "data": {
      "image/png": "[encoded data removed]",
      "text/plain": [
       "<Figure size 432x432 with 3 Axes>"
      ]
     },
     "metadata": {
      "needs_background": "light"
     },
     "output_type": "display_data"
    }
   ],
   "source": [
    "sns.jointplot(dim1,dim2)"
   ]
  },
  {
   "cell_type": "code",
   "execution_count": 6,
   "id": "dimensional-proceeding",
   "metadata": {},
   "outputs": [
    {
     "data": {
      "text/plain": [
       "(100, 100, 3)"
      ]
     },
     "execution_count": 6,
     "metadata": {},
     "output_type": "execute_result"
    }
   ],
   "source": [
    "image_shape = (int(round(np.mean(dim1))),int(round(np.mean(dim2))),3)\n",
    "image_shape "
   ]
  },
  {
   "cell_type": "code",
   "execution_count": 7,
   "id": "israeli-comparison",
   "metadata": {},
   "outputs": [],
   "source": [
    "image_gen = ImageDataGenerator(rotation_range=40, # rotate the image 20 degrees\n",
    "                               width_shift_range=0.10, # Shift the pic width by a max of 5%\n",
    "                               height_shift_range=0.10, # Shift the pic height by a max of 5%\n",
    "                               rescale=1/255, # Rescale the image by normalzing it.\n",
    "                               shear_range=0.1, # Shear means cutting away part of the image (max 10%)\n",
    "                               zoom_range=0.1, # Zoom in by 10% max\n",
    "                               horizontal_flip=True, # Allo horizontal flipping\n",
    "                               fill_mode='constant' # Fill in missing pixels with the nearest filled value\n",
    "                              )"
   ]
  },
  {
   "cell_type": "code",
   "execution_count": 8,
   "id": "supreme-buyer",
   "metadata": {},
   "outputs": [
    {
     "name": "stdout",
     "output_type": "stream",
     "text": [
      "Found 50 images belonging to 50 classes.\n"
     ]
    },
    {
     "data": {
      "text/plain": [
       "<tensorflow.python.keras.preprocessing.image.DirectoryIterator at 0x1ec125c8040>"
      ]
     },
     "execution_count": 8,
     "metadata": {},
     "output_type": "execute_result"
    }
   ],
   "source": [
    "image_gen.flow_from_directory(train_path)"
   ]
  },
  {
   "cell_type": "code",
   "execution_count": 9,
   "id": "meaning-breed",
   "metadata": {},
   "outputs": [
    {
     "name": "stdout",
     "output_type": "stream",
     "text": [
      "Found 50 images belonging to 50 classes.\n"
     ]
    },
    {
     "data": {
      "text/plain": [
       "<tensorflow.python.keras.preprocessing.image.DirectoryIterator at 0x1ec3ab6c070>"
      ]
     },
     "execution_count": 9,
     "metadata": {},
     "output_type": "execute_result"
    }
   ],
   "source": [
    "image_gen.flow_from_directory(test_path)"
   ]
  },
  {
   "cell_type": "code",
   "execution_count": 10,
   "id": "rubber-transformation",
   "metadata": {},
   "outputs": [
    {
     "data": {
      "text/plain": [
       "50"
      ]
     },
     "execution_count": 10,
     "metadata": {},
     "output_type": "execute_result"
    }
   ],
   "source": [
    "out_nodes = len(os.listdir(train_path))\n",
    "out_nodes"
   ]
  },
  {
   "cell_type": "code",
   "execution_count": 11,
   "id": "dated-perth",
   "metadata": {},
   "outputs": [],
   "source": [
    "model = Sequential()\n",
    "    \n",
    "# VGG Block\n",
    "model.add(Conv2D(32, (3, 3), activation='relu', kernel_initializer='he_uniform', padding='same', input_shape=image_shape))\n",
    "model.add(Conv2D(32, (3, 3), activation='relu', kernel_initializer='he_uniform', padding='same'))\n",
    "model.add(MaxPooling2D((2, 2)))\n",
    "# model.add(Dropout(0.2))\n",
    "\n",
    "# VGG Block    \n",
    "model.add(Conv2D(64, (3, 3), activation='relu', kernel_initializer='he_uniform', padding='same'))\n",
    "model.add(Conv2D(64, (3, 3), activation='relu', kernel_initializer='he_uniform', padding='same'))\n",
    "model.add(MaxPooling2D((2, 2)))\n",
    "# model.add(Dropout(0.2))\n",
    "\n",
    "# VGG Block    \n",
    "model.add(Conv2D(128, (3, 3), activation='relu', kernel_initializer='he_uniform', padding='same'))\n",
    "model.add(Conv2D(128, (3, 3), activation='relu', kernel_initializer='he_uniform', padding='same'))\n",
    "model.add(MaxPooling2D((2, 2)))\n",
    "# model.add(Dropout(0.2))\n",
    "\n",
    "# # VGG Block    \n",
    "# model.add(Conv2D(256, (3, 3), activation='relu', kernel_initializer='he_uniform', padding='same'))\n",
    "# model.add(Conv2D(256, (3, 3), activation='relu', kernel_initializer='he_uniform', padding='same'))\n",
    "# model.add(MaxPooling2D((2, 2)))\n",
    "# model.add(Dropout(0.2))\n",
    "\n",
    "# example output part of the model\n",
    "model.add(Flatten())\n",
    "model.add(Dense(256, activation='relu', kernel_initializer='he_uniform'))\n",
    "# model.add(Dropout(0.2))\n",
    "\n",
    "model.add(Dense(out_nodes, activation='softmax'))\n",
    "\n",
    "# compile model\n",
    "model.compile(loss='categorical_crossentropy', optimizer='adam',metrics=['accuracy'])"
   ]
  },
  {
   "cell_type": "code",
   "execution_count": 12,
   "id": "other-demonstration",
   "metadata": {},
   "outputs": [
    {
     "name": "stdout",
     "output_type": "stream",
     "text": [
      "Model: \"sequential\"\n",
      "_________________________________________________________________\n",
      "Layer (type)                 Output Shape              Param #   \n",
      "=================================================================\n",
      "conv2d (Conv2D)              (None, 100, 100, 32)      896       \n",
      "_________________________________________________________________\n",
      "conv2d_1 (Conv2D)            (None, 100, 100, 32)      9248      \n",
      "_________________________________________________________________\n",
      "max_pooling2d (MaxPooling2D) (None, 50, 50, 32)        0         \n",
      "_________________________________________________________________\n",
      "conv2d_2 (Conv2D)            (None, 50, 50, 64)        18496     \n",
      "_________________________________________________________________\n",
      "conv2d_3 (Conv2D)            (None, 50, 50, 64)        36928     \n",
      "_________________________________________________________________\n",
      "max_pooling2d_1 (MaxPooling2 (None, 25, 25, 64)        0         \n",
      "_________________________________________________________________\n",
      "conv2d_4 (Conv2D)            (None, 25, 25, 128)       73856     \n",
      "_________________________________________________________________\n",
      "conv2d_5 (Conv2D)            (None, 25, 25, 128)       147584    \n",
      "_________________________________________________________________\n",
      "max_pooling2d_2 (MaxPooling2 (None, 12, 12, 128)       0         \n",
      "_________________________________________________________________\n",
      "flatten (Flatten)            (None, 18432)             0         \n",
      "_________________________________________________________________\n",
      "dense (Dense)                (None, 256)               4718848   \n",
      "_________________________________________________________________\n",
      "dense_1 (Dense)              (None, 50)                12850     \n",
      "=================================================================\n",
      "Total params: 5,018,706\n",
      "Trainable params: 5,018,706\n",
      "Non-trainable params: 0\n",
      "_________________________________________________________________\n"
     ]
    }
   ],
   "source": [
    "model.summary()"
   ]
  },
  {
   "cell_type": "code",
   "execution_count": 13,
   "id": "blessed-sleep",
   "metadata": {},
   "outputs": [],
   "source": [
    "early_stop = EarlyStopping(monitor='val_loss', patience=7)"
   ]
  },
  {
   "cell_type": "code",
   "execution_count": 14,
   "id": "marked-teach",
   "metadata": {},
   "outputs": [],
   "source": [
    "batch_size = 64"
   ]
  },
  {
   "cell_type": "code",
   "execution_count": 15,
   "id": "revolutionary-japanese",
   "metadata": {},
   "outputs": [
    {
     "data": {
      "text/plain": [
       "(100, 100, 3)"
      ]
     },
     "execution_count": 15,
     "metadata": {},
     "output_type": "execute_result"
    }
   ],
   "source": [
    "image_shape"
   ]
  },
  {
   "cell_type": "code",
   "execution_count": 16,
   "id": "international-mitchell",
   "metadata": {},
   "outputs": [
    {
     "name": "stdout",
     "output_type": "stream",
     "text": [
      "Found 50 images belonging to 50 classes.\n",
      "Found 50 images belonging to 50 classes.\n"
     ]
    }
   ],
   "source": [
    "train_image_gen = image_gen.flow_from_directory(train_path,\n",
    "                                               target_size=image_shape[:2],\n",
    "                                                color_mode='rgb',\n",
    "                                               batch_size=batch_size,\n",
    "                                               class_mode='categorical')\n",
    "\n",
    "test_image_gen = image_gen.flow_from_directory(test_path,\n",
    "                                               target_size=image_shape[:2],\n",
    "                                               color_mode='rgb',\n",
    "                                               batch_size=batch_size,\n",
    "                                               class_mode='categorical',\n",
    "                                               shuffle=False)"
   ]
  },
  {
   "cell_type": "code",
   "execution_count": 17,
   "id": "sharp-marriage",
   "metadata": {
    "scrolled": false
   },
   "outputs": [
    {
     "name": "stdout",
     "output_type": "stream",
     "text": [
      "WARNING:tensorflow:From <ipython-input-17-0b3e0a500529>:1: Model.fit_generator (from tensorflow.python.keras.engine.training) is deprecated and will be removed in a future version.\n",
      "Instructions for updating:\n",
      "Please use Model.fit, which supports generators.\n",
      "Epoch 1/500\n",
      "1/1 [==============================] - 0s 483ms/step - loss: 4.5238 - accuracy: 0.0200 - val_loss: 6.8501 - val_accuracy: 0.0400\n",
      "Epoch 2/500\n",
      "1/1 [==============================] - 0s 190ms/step - loss: 7.0392 - accuracy: 0.0200 - val_loss: 5.0254 - val_accuracy: 0.0200\n",
      "Epoch 3/500\n",
      "1/1 [==============================] - 0s 209ms/step - loss: 5.0535 - accuracy: 0.0200 - val_loss: 4.0682 - val_accuracy: 0.0400\n",
      "Epoch 4/500\n",
      "1/1 [==============================] - 0s 183ms/step - loss: 4.0776 - accuracy: 0.0400 - val_loss: 3.8623 - val_accuracy: 0.0200\n",
      "Epoch 5/500\n",
      "1/1 [==============================] - 0s 196ms/step - loss: 3.8513 - accuracy: 0.0400 - val_loss: 3.8040 - val_accuracy: 0.0400\n",
      "Epoch 6/500\n",
      "1/1 [==============================] - 0s 200ms/step - loss: 3.8422 - accuracy: 0.0000e+00 - val_loss: 3.7980 - val_accuracy: 0.0200\n",
      "Epoch 7/500\n",
      "1/1 [==============================] - 0s 192ms/step - loss: 3.7711 - accuracy: 0.0400 - val_loss: 3.7551 - val_accuracy: 0.0600\n",
      "Epoch 8/500\n",
      "1/1 [==============================] - 0s 199ms/step - loss: 3.7361 - accuracy: 0.0200 - val_loss: 3.6542 - val_accuracy: 0.0400\n",
      "Epoch 9/500\n",
      "1/1 [==============================] - 0s 194ms/step - loss: 3.6693 - accuracy: 0.0200 - val_loss: 3.5738 - val_accuracy: 0.0600\n",
      "Epoch 10/500\n",
      "1/1 [==============================] - 0s 191ms/step - loss: 3.5627 - accuracy: 0.0800 - val_loss: 3.3895 - val_accuracy: 0.1600\n",
      "Epoch 11/500\n",
      "1/1 [==============================] - 0s 202ms/step - loss: 3.4267 - accuracy: 0.1200 - val_loss: 3.2133 - val_accuracy: 0.2400\n",
      "Epoch 12/500\n",
      "1/1 [==============================] - 0s 180ms/step - loss: 3.2598 - accuracy: 0.1800 - val_loss: 2.9931 - val_accuracy: 0.3400\n",
      "Epoch 13/500\n",
      "1/1 [==============================] - 0s 202ms/step - loss: 3.0854 - accuracy: 0.2000 - val_loss: 2.8028 - val_accuracy: 0.2800\n",
      "Epoch 14/500\n",
      "1/1 [==============================] - 0s 197ms/step - loss: 2.9469 - accuracy: 0.2200 - val_loss: 2.6008 - val_accuracy: 0.3600\n",
      "Epoch 15/500\n",
      "1/1 [==============================] - 0s 180ms/step - loss: 2.5774 - accuracy: 0.3200 - val_loss: 2.5588 - val_accuracy: 0.2800\n",
      "Epoch 16/500\n",
      "1/1 [==============================] - 0s 203ms/step - loss: 2.6247 - accuracy: 0.3600 - val_loss: 2.5739 - val_accuracy: 0.2800\n",
      "Epoch 17/500\n",
      "1/1 [==============================] - 0s 195ms/step - loss: 2.2835 - accuracy: 0.3600 - val_loss: 2.0921 - val_accuracy: 0.4600\n",
      "Epoch 18/500\n",
      "1/1 [==============================] - 0s 202ms/step - loss: 2.3121 - accuracy: 0.4000 - val_loss: 2.0690 - val_accuracy: 0.4600\n",
      "Epoch 19/500\n",
      "1/1 [==============================] - 0s 195ms/step - loss: 2.3022 - accuracy: 0.3600 - val_loss: 2.1834 - val_accuracy: 0.4200\n",
      "Epoch 20/500\n",
      "1/1 [==============================] - 0s 194ms/step - loss: 2.2331 - accuracy: 0.4800 - val_loss: 2.3102 - val_accuracy: 0.4000\n",
      "Epoch 21/500\n",
      "1/1 [==============================] - 0s 207ms/step - loss: 2.2292 - accuracy: 0.4200 - val_loss: 1.7902 - val_accuracy: 0.4600\n",
      "Epoch 22/500\n",
      "1/1 [==============================] - 0s 191ms/step - loss: 1.9613 - accuracy: 0.4400 - val_loss: 1.7540 - val_accuracy: 0.5800\n",
      "Epoch 23/500\n",
      "1/1 [==============================] - 0s 203ms/step - loss: 1.9631 - accuracy: 0.4600 - val_loss: 1.8303 - val_accuracy: 0.4800\n",
      "Epoch 24/500\n",
      "1/1 [==============================] - 0s 197ms/step - loss: 1.7441 - accuracy: 0.4200 - val_loss: 1.6865 - val_accuracy: 0.5200\n",
      "Epoch 25/500\n",
      "1/1 [==============================] - 0s 198ms/step - loss: 1.5270 - accuracy: 0.5600 - val_loss: 1.4260 - val_accuracy: 0.6000\n",
      "Epoch 26/500\n",
      "1/1 [==============================] - 0s 194ms/step - loss: 1.6155 - accuracy: 0.5800 - val_loss: 1.2758 - val_accuracy: 0.6200\n",
      "Epoch 27/500\n",
      "1/1 [==============================] - 0s 193ms/step - loss: 1.6204 - accuracy: 0.5800 - val_loss: 1.4135 - val_accuracy: 0.6400\n",
      "Epoch 28/500\n",
      "1/1 [==============================] - 0s 200ms/step - loss: 1.4654 - accuracy: 0.5800 - val_loss: 1.3879 - val_accuracy: 0.6000\n",
      "Epoch 29/500\n",
      "1/1 [==============================] - 0s 194ms/step - loss: 1.3364 - accuracy: 0.6800 - val_loss: 1.3226 - val_accuracy: 0.7000\n",
      "Epoch 30/500\n",
      "1/1 [==============================] - 0s 197ms/step - loss: 1.2080 - accuracy: 0.6600 - val_loss: 1.0697 - val_accuracy: 0.7000\n",
      "Epoch 31/500\n",
      "1/1 [==============================] - 0s 190ms/step - loss: 1.2205 - accuracy: 0.6200 - val_loss: 1.4462 - val_accuracy: 0.5600\n",
      "Epoch 32/500\n",
      "1/1 [==============================] - 0s 187ms/step - loss: 1.1078 - accuracy: 0.7200 - val_loss: 1.1322 - val_accuracy: 0.6600\n",
      "Epoch 33/500\n",
      "1/1 [==============================] - 0s 182ms/step - loss: 1.1420 - accuracy: 0.6200 - val_loss: 1.1292 - val_accuracy: 0.6600\n",
      "Epoch 34/500\n",
      "1/1 [==============================] - 0s 202ms/step - loss: 1.2507 - accuracy: 0.6400 - val_loss: 1.5145 - val_accuracy: 0.5600\n",
      "Epoch 35/500\n",
      "1/1 [==============================] - 0s 182ms/step - loss: 1.1008 - accuracy: 0.7000 - val_loss: 1.4559 - val_accuracy: 0.5800\n",
      "Epoch 36/500\n",
      "1/1 [==============================] - 0s 186ms/step - loss: 1.1825 - accuracy: 0.7200 - val_loss: 0.8033 - val_accuracy: 0.7600\n",
      "Epoch 37/500\n",
      "1/1 [==============================] - 0s 196ms/step - loss: 0.7510 - accuracy: 0.8200 - val_loss: 0.7796 - val_accuracy: 0.7400\n",
      "Epoch 38/500\n",
      "1/1 [==============================] - 0s 196ms/step - loss: 0.9643 - accuracy: 0.6800 - val_loss: 0.9666 - val_accuracy: 0.7200\n",
      "Epoch 39/500\n",
      "1/1 [==============================] - 0s 197ms/step - loss: 0.9854 - accuracy: 0.7000 - val_loss: 0.8710 - val_accuracy: 0.7400\n",
      "Epoch 40/500\n",
      "1/1 [==============================] - 0s 180ms/step - loss: 1.0951 - accuracy: 0.6600 - val_loss: 0.7749 - val_accuracy: 0.7600\n",
      "Epoch 41/500\n",
      "1/1 [==============================] - 0s 192ms/step - loss: 0.9693 - accuracy: 0.7200 - val_loss: 0.7608 - val_accuracy: 0.7800\n",
      "Epoch 42/500\n",
      "1/1 [==============================] - 0s 198ms/step - loss: 1.2841 - accuracy: 0.7000 - val_loss: 0.8724 - val_accuracy: 0.6800\n",
      "Epoch 43/500\n",
      "1/1 [==============================] - 0s 194ms/step - loss: 0.9604 - accuracy: 0.7000 - val_loss: 0.8862 - val_accuracy: 0.6800\n",
      "Epoch 44/500\n",
      "1/1 [==============================] - 0s 197ms/step - loss: 0.9819 - accuracy: 0.6800 - val_loss: 0.8396 - val_accuracy: 0.7600\n",
      "Epoch 45/500\n",
      "1/1 [==============================] - 0s 195ms/step - loss: 0.6017 - accuracy: 0.8000 - val_loss: 0.8423 - val_accuracy: 0.7400\n",
      "Epoch 46/500\n",
      "1/1 [==============================] - 0s 200ms/step - loss: 0.8582 - accuracy: 0.7000 - val_loss: 0.8090 - val_accuracy: 0.7600\n",
      "Epoch 47/500\n",
      "1/1 [==============================] - 0s 200ms/step - loss: 0.7762 - accuracy: 0.7400 - val_loss: 0.5395 - val_accuracy: 0.8200\n",
      "Epoch 48/500\n",
      "1/1 [==============================] - 0s 198ms/step - loss: 0.4099 - accuracy: 0.9000 - val_loss: 0.4638 - val_accuracy: 0.8600\n",
      "Epoch 49/500\n",
      "1/1 [==============================] - 0s 208ms/step - loss: 0.7404 - accuracy: 0.7800 - val_loss: 0.4585 - val_accuracy: 0.8400\n",
      "Epoch 50/500\n",
      "1/1 [==============================] - 0s 192ms/step - loss: 0.5784 - accuracy: 0.7400 - val_loss: 0.4771 - val_accuracy: 0.8600\n",
      "Epoch 51/500\n",
      "1/1 [==============================] - 0s 184ms/step - loss: 0.4070 - accuracy: 0.8400 - val_loss: 0.5434 - val_accuracy: 0.8800\n",
      "Epoch 52/500\n",
      "1/1 [==============================] - 0s 218ms/step - loss: 0.7966 - accuracy: 0.7800 - val_loss: 0.3444 - val_accuracy: 0.9000\n",
      "Epoch 53/500\n",
      "1/1 [==============================] - 0s 185ms/step - loss: 0.3638 - accuracy: 0.9000 - val_loss: 0.3740 - val_accuracy: 0.9200\n",
      "Epoch 54/500\n",
      "1/1 [==============================] - 0s 185ms/step - loss: 0.2682 - accuracy: 0.9200 - val_loss: 0.2758 - val_accuracy: 0.9200\n",
      "Epoch 55/500\n",
      "1/1 [==============================] - 0s 200ms/step - loss: 0.5388 - accuracy: 0.8800 - val_loss: 0.2105 - val_accuracy: 0.9600\n",
      "Epoch 56/500\n",
      "1/1 [==============================] - 0s 198ms/step - loss: 0.2914 - accuracy: 0.9200 - val_loss: 0.2218 - val_accuracy: 0.9200\n"
     ]
    },
    {
     "name": "stdout",
     "output_type": "stream",
     "text": [
      "Epoch 57/500\n",
      "1/1 [==============================] - 0s 206ms/step - loss: 0.2989 - accuracy: 0.9000 - val_loss: 0.4543 - val_accuracy: 0.8600\n",
      "Epoch 58/500\n",
      "1/1 [==============================] - 0s 193ms/step - loss: 0.1791 - accuracy: 0.9600 - val_loss: 0.3071 - val_accuracy: 0.8800\n",
      "Epoch 59/500\n",
      "1/1 [==============================] - 0s 197ms/step - loss: 0.4142 - accuracy: 0.9000 - val_loss: 0.2797 - val_accuracy: 0.9400\n",
      "Epoch 60/500\n",
      "1/1 [==============================] - 0s 210ms/step - loss: 0.3888 - accuracy: 0.9000 - val_loss: 0.2422 - val_accuracy: 0.9000\n",
      "Epoch 61/500\n",
      "1/1 [==============================] - 0s 212ms/step - loss: 0.2702 - accuracy: 0.9200 - val_loss: 0.1603 - val_accuracy: 0.9600\n",
      "Epoch 62/500\n",
      "1/1 [==============================] - 0s 196ms/step - loss: 0.4509 - accuracy: 0.8800 - val_loss: 0.1352 - val_accuracy: 0.9400\n",
      "Epoch 63/500\n",
      "1/1 [==============================] - 0s 206ms/step - loss: 0.2079 - accuracy: 0.9600 - val_loss: 0.4698 - val_accuracy: 0.8800\n",
      "Epoch 64/500\n",
      "1/1 [==============================] - 0s 193ms/step - loss: 0.3652 - accuracy: 0.8800 - val_loss: 0.2278 - val_accuracy: 0.9200\n",
      "Epoch 65/500\n",
      "1/1 [==============================] - 0s 190ms/step - loss: 0.2961 - accuracy: 0.9200 - val_loss: 0.1861 - val_accuracy: 0.9400\n",
      "Epoch 66/500\n",
      "1/1 [==============================] - 0s 191ms/step - loss: 0.2794 - accuracy: 0.9200 - val_loss: 0.3834 - val_accuracy: 0.9200\n",
      "Epoch 67/500\n",
      "1/1 [==============================] - 0s 208ms/step - loss: 0.2674 - accuracy: 0.9400 - val_loss: 0.3612 - val_accuracy: 0.9000\n",
      "Epoch 68/500\n",
      "1/1 [==============================] - 0s 197ms/step - loss: 0.3598 - accuracy: 0.9000 - val_loss: 0.5040 - val_accuracy: 0.8200\n",
      "Epoch 69/500\n",
      "1/1 [==============================] - 0s 181ms/step - loss: 0.3558 - accuracy: 0.8800 - val_loss: 0.1685 - val_accuracy: 0.9600\n"
     ]
    }
   ],
   "source": [
    "results = model.fit_generator(train_image_gen,epochs=500,\n",
    "                              validation_data=test_image_gen,\n",
    "                             callbacks=[early_stop])"
   ]
  },
  {
   "cell_type": "code",
   "execution_count": 18,
   "id": "atomic-cartoon",
   "metadata": {},
   "outputs": [],
   "source": [
    "losses = pd.DataFrame(model.history.history)"
   ]
  },
  {
   "cell_type": "code",
   "execution_count": 19,
   "id": "described-cooking",
   "metadata": {},
   "outputs": [
    {
     "data": {
      "text/plain": [
       "<AxesSubplot:>"
      ]
     },
     "execution_count": 19,
     "metadata": {},
     "output_type": "execute_result"
    },
    {
     "data": {
      "image/png": "[encoded data removed]",
      "text/plain": [
       "<Figure size 432x288 with 1 Axes>"
      ]
     },
     "metadata": {
      "needs_background": "light"
     },
     "output_type": "display_data"
    }
   ],
   "source": [
    "losses[['loss','val_loss']].plot()"
   ]
  },
  {
   "cell_type": "code",
   "execution_count": 20,
   "id": "common-immigration",
   "metadata": {},
   "outputs": [
    {
     "data": {
      "text/plain": [
       "['loss', 'accuracy']"
      ]
     },
     "execution_count": 20,
     "metadata": {},
     "output_type": "execute_result"
    }
   ],
   "source": [
    "model.metrics_names"
   ]
  },
  {
   "cell_type": "code",
   "execution_count": 24,
   "id": "israeli-inside",
   "metadata": {},
   "outputs": [
    {
     "name": "stdout",
     "output_type": "stream",
     "text": [
      "2021-06-22\n"
     ]
    }
   ],
   "source": [
    "from datetime import date\n",
    "\n",
    "today = date.today()\n",
    "print(today)"
   ]
  },
  {
   "cell_type": "code",
   "execution_count": null,
   "id": "processed-potato",
   "metadata": {},
   "outputs": [],
   "source": [
    "model.save(\"Models\\\\flag_model_\"+today)"
   ]
  }
 ],
 "metadata": {
  "kernelspec": {
   "display_name": "Python 3",
   "language": "python",
   "name": "python3"
  },
  "language_info": {
   "codemirror_mode": {
    "name": "ipython",
    "version": 3
   },
   "file_extension": ".py",
   "mimetype": "text/x-python",
   "name": "python",
   "nbconvert_exporter": "python",
   "pygments_lexer": "ipython3",
   "version": "3.8.8"
  }
 },
 "nbformat": 4,
 "nbformat_minor": 5
}
